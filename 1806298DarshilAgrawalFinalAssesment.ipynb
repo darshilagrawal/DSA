{
  "nbformat": 4,
  "nbformat_minor": 0,
  "metadata": {
    "colab": {
      "name": "1806298DarshilAgrawalFinalAssesment.ipynb",
      "provenance": []
    },
    "kernelspec": {
      "name": "python3",
      "display_name": "Python 3"
    },
    "language_info": {
      "name": "python"
    }
  },
  "cells": [
    {
      "cell_type": "code",
      "metadata": {
        "colab": {
          "base_uri": "https://localhost:8080/"
        },
        "id": "OwlHtn9EnQY-",
        "outputId": "181861da-9073-43e3-b344-607fa2193651"
      },
      "source": [
        "def partition(arr, low, high):\n",
        "    i = (low-1)         \n",
        "    pivot = arr[high]     \n",
        "  \n",
        "    for j in range(low, high):\n",
        "        if arr[j] <= pivot:\n",
        "  \n",
        "            i = i+1\n",
        "            arr[i], arr[j] = arr[j], arr[i]\n",
        "  \n",
        "    arr[i+1], arr[high] = arr[high], arr[i+1]\n",
        "    return (i+1)\n",
        "  \n",
        "\n",
        "def quickSort(arr, low, high):\n",
        "    if len(arr) == 1:\n",
        "        return arr\n",
        "    if low < high:\n",
        "  \n",
        "       \n",
        "        pi = partition(arr, low, high)\n",
        "  \n",
        "        quickSort(arr, low, pi-1)\n",
        "        quickSort(arr, pi+1, high)\n",
        "\n",
        "\n",
        "n = int(input(\"Enter the Number of Elements in array \"))\n",
        "print(\"Enter the elements of Array:\")\n",
        "arr = []\n",
        "for i in range(0, n):\n",
        "    element = int(input())\n",
        "    arr.append(element)\n",
        "quickSort(arr, 0, n-1)\n",
        "print(\"Sorted array is:\")\n",
        "for i in range(n):\n",
        "    print(\"%d\" % arr[i])"
      ],
      "execution_count": null,
      "outputs": [
        {
          "output_type": "stream",
          "text": [
            "Enter the Number of Elements in array 5\n",
            "Enter the elements of Array:\n",
            "1\n",
            "34\n",
            "2\n",
            "7\n",
            "5\n",
            "Sorted array is:\n",
            "1\n",
            "2\n",
            "5\n",
            "7\n",
            "34\n"
          ],
          "name": "stdout"
        }
      ]
    },
    {
      "cell_type": "code",
      "metadata": {
        "colab": {
          "base_uri": "https://localhost:8080/"
        },
        "id": "rLjcvU3Vvp7G",
        "outputId": "61aa170d-40ac-4d79-c963-3c5bcde966b9"
      },
      "source": [
        "def isPalindrome(s):\n",
        "    return s == s[::-1]\n",
        " \n",
        "stringToCheck = \"nitin\"\n",
        "ans = isPalindrome(stringToCheck)\n",
        " \n",
        "if ans:\n",
        "    print(\"Yes\")\n",
        "else:\n",
        "    print(\"No\")"
      ],
      "execution_count": null,
      "outputs": [
        {
          "output_type": "stream",
          "text": [
            "Yes\n"
          ],
          "name": "stdout"
        }
      ]
    },
    {
      "cell_type": "code",
      "metadata": {
        "colab": {
          "base_uri": "https://localhost:8080/"
        },
        "id": "FkmXRjgowU0o",
        "outputId": "0b61877c-6107-4708-9163-7c6be0f6b9e6"
      },
      "source": [
        "rows1 = int(input(\"Enter the Number of rows\" ))\n",
        "column1 = int(input(\"Enter the Number of Columns\"))\n",
        "\n",
        "print(\"Enter the elements\")\n",
        "M= [[int(input()) for i in range(column1)] for i in range(rows1)]\n",
        "\n",
        "print(\"First Matrix is: \")\n",
        "for n in M:\n",
        "    print(n)\n",
        "\n",
        "rows2 = int(input(\"Enter the Number of rows\" ))\n",
        "column2 = int(input(\"Enter the Number of Columns\"))\n",
        "\n",
        "print(\"Enter the elements of Second Matrix:\")\n",
        "\n",
        "N= [[int(input()) for i in range(column2)] for i in range(rows2)]\n",
        "for n in N:\n",
        "    print(n)\n",
        "if rows2==column1 :\n",
        "    \n",
        "    result=[[0 for i in range(column2)] for i in range(rows1)]\n",
        "\n",
        "    for i in range(len(M)):\n",
        "        for j in range(len(N[0])):\n",
        "            for k in range(len(N)):\n",
        "                result [i][j]+=M[i][k]*N[k][j]\n",
        "    print(\"\\nM X N is: \")\n",
        "    for r in result:\n",
        "        print(r)\n",
        "else:\n",
        "    print(\"Not possible \")"
      ],
      "execution_count": 33,
      "outputs": [
        {
          "output_type": "stream",
          "text": [
            "Enter the Number of rows1\n",
            "Enter the Number of Columns2\n",
            "Enter the elements\n",
            "1\n",
            "1\n",
            "First Matrix is: \n",
            "[1, 1]\n",
            "Enter the Number of rows2\n",
            "Enter the Number of Columns1\n",
            "Enter the elements of Second Matrix:\n",
            "1\n",
            "1\n",
            "[1]\n",
            "[1]\n",
            "\n",
            "M X N is: \n",
            "[2]\n"
          ],
          "name": "stdout"
        }
      ]
    },
    {
      "cell_type": "code",
      "metadata": {
        "colab": {
          "base_uri": "https://localhost:8080/"
        },
        "id": "9lyP82dgzDmF",
        "outputId": "509febcb-4b97-4fe8-8166-7528e6212383"
      },
      "source": [
        "def word(num):\n",
        "    numberCase = {\n",
        "            0: \"Zero\",\n",
        "            1: \"One\",\n",
        "            2: \"Two\",\n",
        "            3:\"Three\",\n",
        "            4:\"Four\",\n",
        "            5:\"Five\",\n",
        "            6:\"Six\",\n",
        "            7:\"Seven\",\n",
        "            8:\"Eight\",\n",
        "            9:\"Nine\"\n",
        "        }\n",
        "    return numberCase.get(num)\n",
        "num =int(input(\"Enter any number\"))\n",
        "l=[]\n",
        "while(num>0):\n",
        "    w=word(num%10)\n",
        "    l.append(w)\n",
        "    num=num//10\n",
        "l=l[::-1]\n",
        "for i in l:\n",
        "    print(i,end=\" \")"
      ],
      "execution_count": null,
      "outputs": [
        {
          "output_type": "stream",
          "text": [
            "Enter any number12345\n",
            "One Two Three Four Five "
          ],
          "name": "stdout"
        }
      ]
    }
  ]
}